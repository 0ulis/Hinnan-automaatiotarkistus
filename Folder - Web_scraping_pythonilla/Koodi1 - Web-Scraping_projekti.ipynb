{
 "cells": [
  {
   "attachments": {},
   "cell_type": "markdown",
   "metadata": {},
   "source": [
    "# Tuotteiden hintojen seuraaminen helposti: Python \"Web-Scraping\" fiksulle ostajalle"
   ]
  },
  {
   "attachments": {},
   "cell_type": "markdown",
   "metadata": {},
   "source": [
    "### Ongelma: Tuotteen hinnan seuraaminen useilla verkkosivustoilla voi olla työlästä ja aikaa vievää tehtävää. Vaikka asettaisin muistutuksia tai käyttäisin hintaseurantasivustoja, on mahdollista, että saatan ohittaa täydellisen hetken ostaa tuote.\n",
    "\n",
    "### Ratkaisu: Tämä ohjelma käyttää web-kaavintaa automatisoidakseen tuotteen hinnan tarkistusprosessin verkkosivustolla ja lähettää sähköpostiini hälytyksen, kun hinta laskee tietyn kynnyksen alle. Ohjelma säästää aikaa, vaivaa ja varmistaa, että en koskaan menetä paljon haluamaani tuotetta. Sen käyttäjäystävällisen käyttöliittymän ja helpon asennuksen ansiosta voit seurata hintoja ja tehdä tietoisia ostopäätöksiä helposti."
   ]
  },
  {
   "attachments": {},
   "cell_type": "markdown",
   "metadata": {},
   "source": [
    "### Kirjastojen tuonti: verkkojen kaapimiseen, päivämäärän ja kellonajan käsittelyyn ja tietojen käsittelyyn tarvittavien kirjastojen tuonti"
   ]
  },
  {
   "cell_type": "code",
   "execution_count": 1,
   "metadata": {},
   "outputs": [],
   "source": [
    "import pandas as pd\n",
    "from bs4 import BeautifulSoup\n",
    "import requests\n",
    "import time\n",
    "import datetime\n",
    "import smtplib"
   ]
  },
  {
   "attachments": {},
   "cell_type": "markdown",
   "metadata": {},
   "source": [
    "#### 1. Alustaa verkkosivuston ja otsikot: raavittavan verkkosivuston URL-osoite ja pyynnössä lähetettävät käyttäjäagenttiotsikot \n",
    "#### 2. Alustaa verkkosivuston ja otsikot: raavittavan verkkosivuston URL-osoite ja pyynnössä lähetettävät käyttäjäagenttiotsikot \n",
    "#### 3. Tekee pyynnön ja jäsentää sisällön: lähettää pyynnön verkkosivustolle ja jäsentää sisällön BeautifulSoupilla\n",
    "#### 4. Tulostusotsikko ja hinta: Tulostaa tuotteen nimen ja hinnan, jotta voidaan tarkistaa, onnistuiko tietojen poimiminen."
   ]
  },
  {
   "cell_type": "code",
   "execution_count": 26,
   "metadata": {},
   "outputs": [
    {
     "name": "stdout",
     "output_type": "stream",
     "text": [
      "\n",
      "              GeForce RTX 4090 ROG Strix - OC Edition -näytönohjain, 24GB GDDR6X\n",
      "             \n",
      "\n",
      "                  2 599,90\n",
      "                 \n"
     ]
    }
   ],
   "source": [
    "# 1.\n",
    "URL = 'https://www.jimms.fi/fi/Product/Show/185318/rog-strix-rtx4090-o24g-gaming/asus-geforce-rtx-4090-rog-strix-oc-edition-naytonohjain-24gb-gddr6x'\n",
    "\n",
    "headers = {\"User-Agent\": \"Mozilla/5.0 (Windows NT 10.0; Win64; x64) AppleWebKit/537.36 (KHTML, like Gecko) Chrome/108.0.0.0 Safari/537.36\"}\n",
    "\n",
    "# 2.\n",
    "page = requests.get(URL, headers=headers)\n",
    "\n",
    "soup1 = BeautifulSoup(page.content, \"html.parser\")\n",
    "\n",
    "soup2 = BeautifulSoup(soup1.prettify(), \"html.parser\")\n",
    "\n",
    "# 3.\n",
    "title_element = soup2.find_all(itemprop=\"name\")\n",
    "\n",
    "title = title_element[-1].get_text()\n",
    "\n",
    "price = soup2.find(itemprop=\"price\").get_text()\n",
    "\n",
    "# 4.\n",
    "print(title)\n",
    "print(price)"
   ]
  },
  {
   "attachments": {},
   "cell_type": "markdown",
   "metadata": {},
   "source": [
    "#### Otsikon ja hinnan puhdistaminen: Välilyöntien poistaminen otsikosta ja hinnasta"
   ]
  },
  {
   "cell_type": "code",
   "execution_count": 27,
   "metadata": {},
   "outputs": [
    {
     "name": "stdout",
     "output_type": "stream",
     "text": [
      "GeForce RTX 4090 ROG Strix - OC Edition -näytönohjain, 24GB GDDR6X\n",
      "2 599,90\n"
     ]
    }
   ],
   "source": [
    "price = price.strip()\n",
    "title = title.strip()\n",
    "\n",
    "print(title)\n",
    "print(price)"
   ]
  },
  {
   "attachments": {},
   "cell_type": "markdown",
   "metadata": {},
   "source": [
    "#### Nykyisen päivämäärän hakeminen: Hakee kyseisen päivän datetime moduulilla ja tallentaa nimeää sen tallennusta varten"
   ]
  },
  {
   "cell_type": "code",
   "execution_count": 28,
   "metadata": {},
   "outputs": [
    {
     "name": "stdout",
     "output_type": "stream",
     "text": [
      "2023-01-10\n"
     ]
    }
   ],
   "source": [
    "today = datetime.date.today()\n",
    "\n",
    "print(today)"
   ]
  },
  {
   "attachments": {},
   "cell_type": "markdown",
   "metadata": {},
   "source": [
    "#### Tietojen kirjoittaminen csv-tiedostoon: Poistettujen tietojen kirjoittaminen csv-tiedostoon mukautetuilla sarakkeiden nimillä ja päivämäärällä"
   ]
  },
  {
   "cell_type": "code",
   "execution_count": 32,
   "metadata": {},
   "outputs": [],
   "source": [
    "import csv \n",
    "\n",
    "header = ['Tuote', 'Hinta', 'Päivämäärä']\n",
    "data = [title, price, today]\n",
    "\n",
    "\n",
    "with open('Data - Jimmsnettisivustonkaavinta.csv', 'w', newline='', encoding='UTF8') as f:\n",
    "    writer = csv.writer(f)\n",
    "    writer.writerow(header)\n",
    "    writer.writerow(data)"
   ]
  },
  {
   "cell_type": "markdown",
   "metadata": {},
   "source": []
  },
  {
   "attachments": {},
   "cell_type": "markdown",
   "metadata": {},
   "source": [
    "#### Tietojen lukeminen csv-tiedostosta ja näyttäminen datakehyksenä: lukee tietoja csv-tiedostosta ja näyttää nämä tietokehyksenä"
   ]
  },
  {
   "cell_type": "code",
   "execution_count": 33,
   "metadata": {},
   "outputs": [
    {
     "name": "stdout",
     "output_type": "stream",
     "text": [
      "                                               Tuote     Hinta  Päivämäärä\n",
      "0  GeForce RTX 4090 ROG Strix - OC Edition -näytö...  2 599,90  2023-01-10\n"
     ]
    }
   ],
   "source": [
    "df = pd.read_csv(r'C:\\Koodia\\Oma kansio\\Folder - Web_scraping_pythonilla\\Koodi1 - Web-Scraping_projekti.ipynb')\n",
    "\n",
    "print(df)"
   ]
  },
  {
   "attachments": {},
   "cell_type": "markdown",
   "metadata": {},
   "source": [
    "#### Uusien tietojen lisääminen: lisää uudet tiedot csv-tiedostoon, kun koodi suoritetaan uudelleen, uudella päivämäärällä ja hinnalla"
   ]
  },
  {
   "cell_type": "code",
   "execution_count": null,
   "metadata": {},
   "outputs": [],
   "source": [
    "\n",
    "with open('Data - Jimmsnettisivustonkaavinta.csv', 'a+', newline='', encoding='UTF8') as f:\n",
    "    writer = csv.writer(f)\n",
    "    writer.writerow(data)"
   ]
  },
  {
   "attachments": {},
   "cell_type": "markdown",
   "metadata": {},
   "source": [
    "#### Aliohjelma: Toiminnon määrittäminen hinnantarkistustehtävän aikataulutuksen helpottamiseksi, koska koodia voidaan ajaa toistuvana tehtävänä"
   ]
  },
  {
   "cell_type": "code",
   "execution_count": 34,
   "metadata": {},
   "outputs": [],
   "source": [
    "def tarkista_hinta():\n",
    "    URL = 'https://www.jimms.fi/fi/Product/Show/185318/rog-strix-rtx4090-o24g-gaming/asus-geforce-rtx-4090-rog-strix-oc-edition-naytonohjain-24gb-gddr6x'\n",
    "\n",
    "    headers = {\"User-Agent\": \"Mozilla/5.0 (Windows NT 10.0; Win64; x64) AppleWebKit/537.36 (KHTML, like Gecko) Chrome/108.0.0.0 Safari/537.36\"}\n",
    "\n",
    "    page = requests.get(URL, headers=headers)\n",
    "\n",
    "    soup1 = BeautifulSoup(page.content, \"html.parser\")\n",
    "\n",
    "    soup2 = BeautifulSoup(soup1.prettify(), \"html.parser\")\n",
    "\n",
    "    title_element = soup2.find_all(itemprop=\"name\")\n",
    "    title = title_element[-1].get_text()\n",
    "\n",
    "    price = soup2.find(itemprop=\"price\").get_text()\n",
    "    price = price.strip()\n",
    "    title = title.strip()\n",
    "\n",
    "    import datetime\n",
    "\n",
    "    today = datetime.date.today()\n",
    "    \n",
    "    import csv \n",
    "\n",
    "    header = ['Tuote', 'Hinta', 'Päivämäärä']\n",
    "    data = [title, price, today]\n",
    "\n",
    "    with open('Data - Jimmsnettisivustonkaavinta.csv', 'a+', newline='', encoding='UTF8') as f:\n",
    "        writer = csv.writer(f)\n",
    "        writer.writerow(data)\n",
    "    # if price of the product gets under the listed price it will call subroutine\n",
    "    if (price < 2000):\n",
    "        send_mail()"
   ]
  },
  {
   "attachments": {},
   "cell_type": "markdown",
   "metadata": {},
   "source": [
    "#### While true looppi: kun niin halutaan ohjelma on päällä ikuisesti (tai niin pitkään kun kone on päällä)"
   ]
  },
  {
   "attachments": {},
   "cell_type": "markdown",
   "metadata": {},
   "source": [
    "##### time.sleep moduuli rajaa hinnantarkistuksen kerran viikkoon, sillä tuotteemme hinta ei ole nopeasti vaihteleva!!!"
   ]
  },
  {
   "cell_type": "code",
   "execution_count": null,
   "metadata": {},
   "outputs": [],
   "source": [
    "while(True):\n",
    "    tarkista_hinta()\n",
    "    time.sleep(604800)"
   ]
  },
  {
   "attachments": {},
   "cell_type": "markdown",
   "metadata": {},
   "source": [
    "#### Lukee tiedot csv-tiedostosta pandas-kirjaston avulla ja tallentaa ne tietokehykseen nimeltä df. Toinen rivitulostus (df) tulostaa datakehyksen, jolloin käyttäjä voi nähdä tiedot taulukkomuodossa."
   ]
  },
  {
   "cell_type": "code",
   "execution_count": null,
   "metadata": {},
   "outputs": [],
   "source": [
    "df = pd.read_csv(r'C:\\Koodia\\Oma kansio\\Folder - Web_scraping_pythonilla\\Koodi1 - Web-Scraping_projekti.ipynb')\n",
    "\n",
    "print(df)"
   ]
  },
  {
   "attachments": {},
   "cell_type": "markdown",
   "metadata": {},
   "source": [
    "#### käytetään sähköpostin lähettämiseen tietylle vastaanottajalle, kun tuotteen hinta putoaa tietyn kynnyksen alle. Tämä toiminto käyttää smtplib-kirjastoa vuorovaikutuksessa käytettävän sähköpostipalvelun (tässä tapauksessa Gmailin) Simple Mail Transfer Protocol (SMTP) -palvelimen kanssa."
   ]
  },
  {
   "cell_type": "code",
   "execution_count": null,
   "metadata": {},
   "outputs": [],
   "source": [
    "def send_mail():\n",
    "    server = smtplib.SMTP_SSL('smtp.gmail.com',465)\n",
    "    server.ehlo()\n",
    "    #server.starttls()\n",
    "    server.ehlo()\n",
    "    server.login('oula.nikkinen+pythonprogram@gmail.com','xxxxxxxxxxxxxx')\n",
    "    server.login('oula.nikkinen+pythonprogram@gmail.com','xxxxxxxxxxxxxx')\n",
    "    subject = \"Käy ostamassa!\"\n",
    "    body = \"Näytönohjain Asus GeForce RTX 4090 ROG Strix on nyt alle 2000€!!!  Tässä nopea linkki: https://www.jimms.fi/fi/Product/Show/185318/rog-strix-rtx4090-o24g-gaming/asus-geforce-rtx-4090-rog-strix-oc-edition-naytonohjain-24gb-gddr6x\"\n",
    "   \n",
    "    msg = f\"Subject: {subject}\\n\\n{body}\"\n",
    "    \n",
    "    server.sendmail(\n",
    "        'oula.nikkinen+pythonprogram@gmail.com',\n",
    "        msg\n",
    "     \n",
    "    )"
   ]
  },
  {
   "attachments": {},
   "cell_type": "markdown",
   "metadata": {},
   "source": [
    "### Ohjelman loppu, kiitos käytöstä!"
   ]
  }
 ],
 "metadata": {
  "kernelspec": {
   "display_name": "alusta_ds",
   "language": "python",
   "name": "python3"
  },
  "language_info": {
   "codemirror_mode": {
    "name": "ipython",
    "version": 3
   },
   "file_extension": ".py",
   "mimetype": "text/x-python",
   "name": "python",
   "nbconvert_exporter": "python",
   "pygments_lexer": "ipython3",
   "version": "3.10.8"
  },
  "orig_nbformat": 4,
  "vscode": {
   "interpreter": {
    "hash": "b6a8ee43d6e46124d0eef6a27da85df3f2afa6631141875f40e4023697ecb6f7"
   }
  }
 },
 "nbformat": 4,
 "nbformat_minor": 2
}
